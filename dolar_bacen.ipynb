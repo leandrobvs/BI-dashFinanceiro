{
 "cells": [
  {
   "cell_type": "code",
   "execution_count": 1,
   "id": "39cc90b6",
   "metadata": {},
   "outputs": [],
   "source": [
    "import requests\n",
    "import pandas as pd\n",
    "from datetime import datetime\n",
    "import matplotlib.pyplot as plt\n"
   ]
  },
  {
   "cell_type": "code",
   "execution_count": 2,
   "id": "42f13d49",
   "metadata": {},
   "outputs": [],
   "source": [
    "# Configurações fixas\n",
    "codigo_serie = 1 \n",
    "data_inicial = \"01/01/2023\"\n",
    "data_final = datetime.today().strftime('%d/%m/%Y')"
   ]
  },
  {
   "cell_type": "code",
   "execution_count": 3,
   "id": "b14b2672",
   "metadata": {},
   "outputs": [],
   "source": [
    "url = f'https://api.bcb.gov.br/dados/serie/bcdata.sgs.{codigo_serie}/dados'\n",
    "params = {\n",
    "    'formato': 'json',\n",
    "    'dataInicial': data_inicial,\n",
    "    'dataFinal': data_final\n",
    "}\n",
    "\n",
    "response = requests.get(url, params=params)"
   ]
  },
  {
   "cell_type": "code",
   "execution_count": 4,
   "id": "2d51710c",
   "metadata": {},
   "outputs": [],
   "source": [
    "dados = response.json()\n",
    "df_dolar = pd.DataFrame(dados)"
   ]
  },
  {
   "cell_type": "code",
   "execution_count": 5,
   "id": "4d53beaa",
   "metadata": {},
   "outputs": [],
   "source": [
    "df_dolar['data'] = pd.to_datetime(df_dolar['data'], format='%d/%m/%Y')\n",
    "df_dolar['valor'] = df_dolar['valor'].astype('float')"
   ]
  },
  {
   "cell_type": "code",
   "execution_count": 6,
   "id": "d7da19c7",
   "metadata": {},
   "outputs": [],
   "source": [
    "from dotenv import load_dotenv\n",
    "import os\n",
    "from sqlalchemy import create_engine\n",
    "from sqlalchemy import text"
   ]
  },
  {
   "cell_type": "code",
   "execution_count": null,
   "id": "41f77add",
   "metadata": {},
   "outputs": [
    {
     "data": {
      "text/plain": [
       "True"
      ]
     },
     "execution_count": 7,
     "metadata": {},
     "output_type": "execute_result"
    }
   ],
   "source": [
    "sql_server = os.getenv(\"sql_server\").replace('\\\\\\\\', '\\\\')\n",
    "sql_database = os.getenv('sql_database')\n",
    "sql_username = os.getenv('sql_username')\n",
    "sql_password = os.getenv('sql_password')\n",
    "sql_driver = os.getenv('sql_driver')\n",
    "\n",
    "load_dotenv()\n",
    "\n"
   ]
  },
  {
   "cell_type": "code",
   "execution_count": 8,
   "id": "8eab004a",
   "metadata": {},
   "outputs": [
    {
     "name": "stdout",
     "output_type": "stream",
     "text": [
      "2\n"
     ]
    }
   ],
   "source": [
    "print(len(server.split('\\\\')))"
   ]
  },
  {
   "cell_type": "code",
   "execution_count": null,
   "id": "0fbcf6b9",
   "metadata": {},
   "outputs": [],
   "source": [
    "\n",
    "\n",
    "conn_str = f'mssql+pyodbc://{sql_username}:{sql_password}@{sql_server}/{sql_database}?driver={sql_driver}&TrustServerCertificate=yes'\n",
    "\n",
    "engine = create_engine(conn_str)"
   ]
  },
  {
   "cell_type": "code",
   "execution_count": 10,
   "id": "385c56fc",
   "metadata": {},
   "outputs": [
    {
     "name": "stdout",
     "output_type": "stream",
     "text": [
      "✅ Conexão bem-sucedida: 1\n"
     ]
    }
   ],
   "source": [
    "try:\n",
    "    with engine.connect() as conn:\n",
    "        result = conn.execute(text(\"SELECT 1\"))\n",
    "        print(\"✅ Conexão bem-sucedida:\", result.scalar())\n",
    "except Exception as e:\n",
    "    print(\"❌ Falha na conexão:\", e)"
   ]
  },
  {
   "cell_type": "code",
   "execution_count": 11,
   "id": "d49dc576",
   "metadata": {},
   "outputs": [],
   "source": [
    "with engine.begin() as conn:\n",
    "    conn.execute(text(\"TRUNCATE TABLE dolar_bacen\"))\n",
    "    df_dolar.to_sql('dolar_bacen', con=conn, if_exists='append', index=False)\n",
    "\n"
   ]
  }
 ],
 "metadata": {
  "kernelspec": {
   "display_name": "Python 3",
   "language": "python",
   "name": "python3"
  },
  "language_info": {
   "codemirror_mode": {
    "name": "ipython",
    "version": 3
   },
   "file_extension": ".py",
   "mimetype": "text/x-python",
   "name": "python",
   "nbconvert_exporter": "python",
   "pygments_lexer": "ipython3",
   "version": "3.13.2"
  }
 },
 "nbformat": 4,
 "nbformat_minor": 5
}
